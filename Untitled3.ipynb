{
 "cells": [
  {
   "cell_type": "code",
   "execution_count": 3,
   "metadata": {
    "collapsed": false
   },
   "outputs": [
    {
     "name": "stdout",
     "output_type": "stream",
     "text": [
      "C:\\Users\\pranay\\Desktop\\CMU\n"
     ]
    }
   ],
   "source": [
    "cd C:\\Users\\pranay\\Desktop\\CMU    "
   ]
  },
  {
   "cell_type": "code",
   "execution_count": 4,
   "metadata": {
    "collapsed": false
   },
   "outputs": [
    {
     "name": "stdout",
     "output_type": "stream",
     "text": [
      " Volume in drive C has no label.\n",
      " Volume Serial Number is 9629-13B0\n",
      "\n",
      " Directory of C:\\Users\\pranay\\Desktop\\CMU\n",
      "\n",
      "15-05-2017  15:47    <DIR>          .\n",
      "15-05-2017  15:47    <DIR>          ..\n",
      "15-05-2017  13:21    <DIR>          .ipynb_checkpoints\n",
      "12-05-2017  08:08           404,294 03_mfcc.pdf\n",
      "13-05-2017  18:11           110,592 A.xls\n",
      "11-05-2017  15:54         1,211,931 balanced_train_segments.csv\n",
      "13-05-2017  16:31            35,237 C.csv\n",
      "12-05-2017  11:30           998,407 c4.pdf\n",
      "12-05-2017  11:30           474,580 c5.pdf\n",
      "12-05-2017  11:30           177,667 c6.pdf\n",
      "02-10-2014  18:19             2,830 cell2csv.m\n",
      "12-05-2017  11:49            14,675 class_labels_indices.csv\n",
      "12-05-2017  14:22         2,044,840 class3.featurecomputation.30jan2013.pdf\n",
      "13-05-2017  18:08             8,275 code.m\n",
      "15-05-2017  16:10             5,292 download_audio.py\n",
      "15-05-2017  15:21                 0 error2017_05_15_15_21_54.log\n",
      "15-05-2017  15:21                 0 error2017_05_15_15_21_59.log\n",
      "15-05-2017  15:22                 0 error2017_05_15_15_22_18.log\n",
      "15-05-2017  15:22                 0 error2017_05_15_15_22_27.log\n",
      "15-05-2017  15:23               300 error2017_05_15_15_22_33.log\n",
      "15-05-2017  15:25               300 error2017_05_15_15_24_49.log\n",
      "15-05-2017  15:42                 0 error2017_05_15_15_42_25.log\n",
      "15-05-2017  15:43                 0 error2017_05_15_15_43_54.log\n",
      "15-05-2017  15:44             1,364 error2017_05_15_15_44_07.log\n",
      "15-05-2017  15:46             1,364 error2017_05_15_15_46_18.log\n",
      "15-05-2017  15:48               300 error2017_05_15_15_47_16.log\n",
      "11-05-2017  16:43         1,143,389 eval_segments.csv\n",
      "13-05-2017  18:24            33,588 final_23.csv\n",
      "13-05-2017  18:25            33,588 final_23_1.csv\n",
      "13-05-2017  18:56            33,666 final_pm.csv\n",
      "13-05-2017  16:45           604,637 matlab.mat\n",
      "12-05-2017  12:33        33,232,127 Oppenheim - Signals And Systems (Complete).pdf\n",
      "02-05-2017  13:25             1,309 training_set.csv\n",
      "15-05-2017  15:48    <DIR>          training_set_training_set_audio_downloaded\n",
      "15-05-2017  15:47    <DIR>          training_set_training_set_audio_formatted_and_segmented_downloads\n",
      "15-05-2017  15:47    <DIR>          training_set_training_set_audio_formatted_downloaded\n",
      "13-05-2017  20:01            15,503 Untitled.ipynb\n",
      "15-05-2017  13:29            17,519 Untitled1.ipynb\n",
      "              32 File(s)     40,607,574 bytes\n",
      "               6 Dir(s)  149,891,969,024 bytes free\n"
     ]
    }
   ],
   "source": [
    "ls\n"
   ]
  },
  {
   "cell_type": "code",
   "execution_count": 10,
   "metadata": {
    "collapsed": false
   },
   "outputs": [
    {
     "ename": "SyntaxError",
     "evalue": "invalid syntax (<ipython-input-10-b634819fecac>, line 1)",
     "output_type": "error",
     "traceback": [
      "\u001b[0;36m  File \u001b[0;32m\"<ipython-input-10-b634819fecac>\"\u001b[0;36m, line \u001b[0;32m1\u001b[0m\n\u001b[0;31m    run download_audio.py training_set.csv\u001b[0m\n\u001b[0m                     ^\u001b[0m\n\u001b[0;31mSyntaxError\u001b[0m\u001b[0;31m:\u001b[0m invalid syntax\n"
     ]
    }
   ],
   "source": [
    "run download_audio.py training_set.csv\n",
    "#reset\n"
   ]
  },
  {
   "cell_type": "code",
   "execution_count": 11,
   "metadata": {
    "collapsed": false
   },
   "outputs": [
    {
     "name": "stdout",
     "output_type": "stream",
     "text": [
      "Once deleted, variables cannot be recovered. Proceed (y/[n])? y\n"
     ]
    }
   ],
   "source": [
    "reset"
   ]
  },
  {
   "cell_type": "code",
   "execution_count": 12,
   "metadata": {
    "collapsed": false
   },
   "outputs": [
    {
     "name": "stderr",
     "output_type": "stream",
     "text": [
      "\r",
      "0it [00:00, ?it/s]"
     ]
    },
    {
     "name": "stdout",
     "output_type": "stream",
     "text": [
      "end of file\n",
      "end of file\n",
      "[('-09rxiqNNEs,30.000,40.000,Civil defense siren,/m/0dgbq\\n', 'training_set.csv')]\n"
     ]
    },
    {
     "name": "stderr",
     "output_type": "stream",
     "text": [
      "\r",
      "1it [00:01,  1.40s/it]"
     ]
    },
    {
     "name": "stdout",
     "output_type": "stream",
     "text": [
      "end of file\n",
      "end of file\n",
      "[('-0DIFwkUpjQ,50.000,60.000,Skateboard,/m/06_fw\\n', 'training_set.csv')]\n"
     ]
    },
    {
     "name": "stderr",
     "output_type": "stream",
     "text": [
      "\r",
      "2it [00:03,  1.55s/it]"
     ]
    },
    {
     "name": "stdout",
     "output_type": "stream",
     "text": [
      "end of file\n",
      "end of file\n",
      "[('-0Eem_FuIto,15.000,25.000,\"Fire engine, fire truck (siren)\",/m/012ndj\\n', 'training_set.csv')]\n"
     ]
    },
    {
     "name": "stderr",
     "output_type": "stream",
     "text": [
      "\r",
      "3it [00:04,  1.33s/it]"
     ]
    },
    {
     "name": "stdout",
     "output_type": "stream",
     "text": [
      "end of file\n",
      "end of file\n",
      "[('0_HnD-rW3lI,170.000,180.000,\"Train horn,Train\",\"/m/0284vy3,/m/07jdr\"\\n', 'training_set.csv')]\n"
     ]
    },
    {
     "name": "stderr",
     "output_type": "stream",
     "text": [
      "\r",
      "4it [00:05,  1.35s/it]"
     ]
    },
    {
     "name": "stdout",
     "output_type": "stream",
     "text": [
      "end of file\n",
      "end of file\n",
      "[('0RurXUfKyow,4.000,14.000,\"Train horn,Train\",\"/m/0284vy3,/m/07jdr\"\\n', 'training_set.csv')]\n"
     ]
    },
    {
     "name": "stderr",
     "output_type": "stream",
     "text": [
      "\r",
      "5it [00:07,  1.67s/it]"
     ]
    },
    {
     "name": "stdout",
     "output_type": "stream",
     "text": [
      "end of file\n",
      "end of file\n",
      "[('-0_vEaaXndY,11.000,21.000,Bus,/m/01bjv\\n', 'training_set.csv')]\n"
     ]
    },
    {
     "name": "stderr",
     "output_type": "stream",
     "text": [
      "\r",
      "6it [00:09,  1.54s/it]"
     ]
    },
    {
     "name": "stdout",
     "output_type": "stream",
     "text": [
      "end of file\n",
      "end of file\n",
      "[('--0w1YA1Hm4,30.000,40.000,Bus,/m/01bjv\\n', 'training_set.csv')]\n"
     ]
    },
    {
     "name": "stderr",
     "output_type": "stream",
     "text": [
      "\r",
      "7it [00:11,  1.75s/it]"
     ]
    },
    {
     "name": "stdout",
     "output_type": "stream",
     "text": [
      "end of file\n",
      "end of file\n",
      "[('--12UOziMF0,30.000,40.000,Truck,/m/07r04\\n', 'training_set.csv')]\n"
     ]
    },
    {
     "name": "stderr",
     "output_type": "stream",
     "text": [
      "\r",
      "8it [00:13,  1.79s/it]"
     ]
    },
    {
     "name": "stdout",
     "output_type": "stream",
     "text": [
      "end of file\n",
      "end of file\n",
      "[('-1HlfoHZCEE,6.000,16.000,\"Car passing by,Car\",\"/t/dd00134,/m/0k4j\"\\n', 'training_set.csv')]\n"
     ]
    },
    {
     "name": "stderr",
     "output_type": "stream",
     "text": [
      "\r",
      "9it [00:15,  1.83s/it]"
     ]
    },
    {
     "name": "stdout",
     "output_type": "stream",
     "text": [
      "end of file\n",
      "end of file\n",
      "[('-1McjOPUzbo,30.000,40.000,\"Car passing by,Car\",\"/t/dd00134,/m/0k4j\"\\n', 'training_set.csv')]\n"
     ]
    },
    {
     "name": "stderr",
     "output_type": "stream",
     "text": [
      "\r",
      "10it [00:18,  2.33s/it]"
     ]
    },
    {
     "name": "stdout",
     "output_type": "stream",
     "text": [
      "end of file\n",
      "end of file\n",
      "[('-1U98XBTyB4,30.000,40.000,Police car (siren),/m/04qvtq\\n', 'training_set.csv')]\n"
     ]
    },
    {
     "name": "stderr",
     "output_type": "stream",
     "text": [
      "\r",
      "11it [00:20,  2.15s/it]"
     ]
    },
    {
     "name": "stdout",
     "output_type": "stream",
     "text": [
      "end of file\n",
      "end of file\n",
      "[('-1WK72M4xeg,220.000,230.000,Motorcycle,/m/04_sv\\n', 'training_set.csv')]\n"
     ]
    },
    {
     "name": "stderr",
     "output_type": "stream",
     "text": [
      "\r",
      "12it [00:22,  2.09s/it]"
     ]
    },
    {
     "name": "stdout",
     "output_type": "stream",
     "text": [
      "end of file\n",
      "end of file\n",
      "[('-20uudT97E0,30.000,40.000,Screaming,/m/03qc9zr\\n', 'training_set.csv')]\n"
     ]
    },
    {
     "name": "stderr",
     "output_type": "stream",
     "text": [
      "\r",
      "13it [00:23,  1.77s/it]"
     ]
    },
    {
     "name": "stdout",
     "output_type": "stream",
     "text": [
      "end of file\n",
      "end of file\n",
      "[('--330hg-Ocw,30.000,40.000,Car,/m/0k4j\\n', 'training_set.csv')]\n"
     ]
    },
    {
     "name": "stderr",
     "output_type": "stream",
     "text": [
      "\r",
      "14it [00:25,  1.87s/it]"
     ]
    },
    {
     "name": "stdout",
     "output_type": "stream",
     "text": [
      "end of file\n",
      "end of file\n",
      "[('-3qh-WFUV2U,30.000,40.000,Civil defense siren,/m/0dgbq\\n', 'training_set.csv')]\n"
     ]
    },
    {
     "name": "stderr",
     "output_type": "stream",
     "text": [
      "\r",
      "15it [00:28,  2.12s/it]"
     ]
    },
    {
     "name": "stdout",
     "output_type": "stream",
     "text": [
      "end of file\n",
      "end of file\n",
      "[('-60XojQWWoc,30.000,40.000,\"Reversing beeps,Truck\",\"/m/02rhddq,/m/07r04\"\\n', 'training_set.csv')]\n"
     ]
    },
    {
     "name": "stderr",
     "output_type": "stream",
     "text": [
      "\r",
      "16it [00:30,  2.08s/it]"
     ]
    },
    {
     "name": "stdout",
     "output_type": "stream",
     "text": [
      "end of file\n",
      "end of file\n",
      "[('-6d-zxMvC5E,30.000,40.000,Reversing beeps,/m/02rhddq\\n', 'training_set.csv')]\n"
     ]
    },
    {
     "name": "stderr",
     "output_type": "stream",
     "text": [
      "\r",
      "17it [00:34,  2.63s/it]"
     ]
    },
    {
     "name": "stdout",
     "output_type": "stream",
     "text": [
      "end of file\n",
      "end of file\n",
      "[('-8baTnilyjs,30.000,40.000,\"Air horn, truck horn\",/m/05x_td\\n', 'training_set.csv')]\n"
     ]
    },
    {
     "name": "stderr",
     "output_type": "stream",
     "text": [
      "\r",
      "18it [00:37,  2.89s/it]"
     ]
    },
    {
     "name": "stdout",
     "output_type": "stream",
     "text": [
      "end of file\n",
      "end of file\n",
      "[('-ajCLjpfGKI,83.000,93.000,Car alarm,/m/02mfyn\\n', 'training_set.csv')]\n"
     ]
    },
    {
     "name": "stderr",
     "output_type": "stream",
     "text": [
      "\r",
      "19it [00:39,  2.58s/it]"
     ]
    },
    {
     "name": "stdout",
     "output_type": "stream",
     "text": [
      "end of file\n",
      "end of file\n",
      "[('-D08wyQwDPQ,10.000,20.000,Bicycle,/m/0199g\\n', 'training_set.csv')]\n"
     ]
    },
    {
     "name": "stderr",
     "output_type": "stream",
     "text": [
      "\r",
      "20it [00:40,  2.23s/it]"
     ]
    },
    {
     "name": "stdout",
     "output_type": "stream",
     "text": [
      "end of file\n",
      "end of file\n",
      "[('--H_-CEB2wA,30.000,40.000,Train,/m/07jdr\\n', 'training_set.csv')]\n"
     ]
    },
    {
     "name": "stderr",
     "output_type": "stream",
     "text": [
      "\r",
      "21it [00:42,  2.19s/it]"
     ]
    },
    {
     "name": "stdout",
     "output_type": "stream",
     "text": [
      "end of file\n",
      "end of file\n",
      "[('-hLSc9aPOms,13.000,23.000,Car alarm,/m/02mfyn\\n', 'training_set.csv')]\n"
     ]
    },
    {
     "name": "stderr",
     "output_type": "stream",
     "text": [
      "\r",
      "22it [00:44,  2.07s/it]"
     ]
    },
    {
     "name": "stdout",
     "output_type": "stream",
     "text": [
      "end of file\n",
      "end of file\n",
      "[('--ljM2Kojag,30.000,40.000,Ambulance (siren),/m/012n7d\\n', 'training_set.csv')]\n"
     ]
    },
    {
     "name": "stderr",
     "output_type": "stream",
     "text": [
      "\r",
      "23it [00:48,  2.58s/it]"
     ]
    },
    {
     "name": "stdout",
     "output_type": "stream",
     "text": [
      "end of file\n",
      "end of file\n",
      "[('---lTs1dxhU,30.000,40.000,\"Car,Car passing by\",\"/m/0k4j,/t/dd00134\"\\n', 'training_set.csv')]\n"
     ]
    },
    {
     "name": "stderr",
     "output_type": "stream",
     "text": [
      "24it [00:49,  2.11s/it]\n"
     ]
    }
   ],
   "source": [
    "run download_audio.py training_set.csv\n"
   ]
  },
  {
   "cell_type": "code",
   "execution_count": null,
   "metadata": {
    "collapsed": true
   },
   "outputs": [],
   "source": []
  }
 ],
 "metadata": {
  "anaconda-cloud": {},
  "kernelspec": {
   "display_name": "Python [conda root]",
   "language": "python",
   "name": "conda-root-py"
  },
  "language_info": {
   "codemirror_mode": {
    "name": "ipython",
    "version": 3
   },
   "file_extension": ".py",
   "mimetype": "text/x-python",
   "name": "python",
   "nbconvert_exporter": "python",
   "pygments_lexer": "ipython3",
   "version": "3.5.2"
  }
 },
 "nbformat": 4,
 "nbformat_minor": 1
}

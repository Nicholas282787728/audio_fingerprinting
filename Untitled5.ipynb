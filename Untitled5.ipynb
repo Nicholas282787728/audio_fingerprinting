{
 "cells": [
  {
   "cell_type": "code",
   "execution_count": null,
   "metadata": {
    "collapsed": true
   },
   "outputs": [],
   "source": [
    "Audio Fingerprinting \n",
    "\n",
    "\n",
    "Implementing Shazam's' Algorithm on the youtube videos. \n",
    "Created a database of 2116 audio files and created a query of 50 audio samples.\n",
    "Created a 3D matrix of snippets and noise, having the rows as the indicator of the song number and the columns as the snippet duration( 1 sec, 5 sec, 10 sec, 15 sec, 30 sec)\n",
    "The 3rd dimension indicates the noise added( 0db snr, 5db,10,20 db).\n",
    "\n",
    "MAP was used to test the inital hypothesis. \n",
    "The results are as follows:-\n",
    "    \n",
    "    X axis Second Snippets\n",
    "    Y axis Noise Snippets\n",
    "    \n",
    "    \n",
    "    MAP values \n",
    "    \n",
    "    0.1701 0.6584 0.7669 0.8647 0.9488\n",
    "    0.1946 0.7176 0.8107 0.8955 1.0000\n",
    "    0.1714 0.7794 0.9240 0.9768 1.0000\n",
    "    0.2262 0.8779 0.9542 1.0000 1.0000\n",
    "    \n",
    "    \n",
    "Now I am trying to tweak the parameters of the algorithm to determine which of the values suit our method best.\n",
    "\n",
    "_____________________________________________________\n",
    "\n",
    "There are the parameters I found that are worthy of tweaking:-\n",
    "    \n",
    "    1) Target Hashes per second-> N -> which is initially taken to be 10 while creating the database and 20 while querying the audio.\n",
    "       Increasing N could result in increasing the number of landmarks and hence more accuracy.\n",
    "        \n",
    "    2) Decreasing the spreading width of the masking skirt-> f_sd -> the peaks that we obtain from the spectrogram and then convolved with the f_sd parameter\n",
    "       Decreasing this parameter would increase the number of landmarks and hence the accuracy.\n",
    "        \n",
    "    3) Decay rate of the masking skirt-> depends on N= the target hashes per second.\n",
    "    \n",
    "    4) Maximum number of peaks allowed per second-> Generally this parameter is not easily reached as I checked by testing on a few samples\n",
    "       \n",
    "    5) Number of pairs formed with each peak-> Most promising factor that could result in increase in performance.\n",
    "    \n",
    "    6) window size 64ms and 512 pt FFT. Generally all the papers use this as a standard and hence better not to change it.\n",
    "    \n",
    "    7) Number of time frequency peaks found per second --> Increasing this theoretically should increase the accuracy.\n",
    "    \n",
    "    \n",
    "     "
   ]
  }
 ],
 "metadata": {
  "anaconda-cloud": {},
  "kernelspec": {
   "display_name": "Python [conda root]",
   "language": "python",
   "name": "conda-root-py"
  },
  "language_info": {
   "codemirror_mode": {
    "name": "ipython",
    "version": 3
   },
   "file_extension": ".py",
   "mimetype": "text/x-python",
   "name": "python",
   "nbconvert_exporter": "python",
   "pygments_lexer": "ipython3",
   "version": "3.5.2"
  }
 },
 "nbformat": 4,
 "nbformat_minor": 1
}
